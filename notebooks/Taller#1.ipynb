{
 "cells": [
  {
   "cell_type": "markdown",
   "id": "90e72125",
   "metadata": {},
   "source": [
    "# **Estudiantes:**\n",
    "- Fabian Tovar\n",
    "- Felipe García\n",
    "- Jesús Figueroba"
   ]
  },
  {
   "cell_type": "markdown",
   "id": "269325fc",
   "metadata": {},
   "source": [
    "# Funciones"
   ]
  },
  {
   "cell_type": "code",
   "execution_count": 1,
   "id": "182dc4b7",
   "metadata": {},
   "outputs": [],
   "source": [
    "import numpy as np\n",
    "import pandas as pd\n",
    "import yfinance as yf\n",
    "\n",
    "# -----------------------------------------------------\n",
    "# 1.1 Descarga y preprocesamiento\n",
    "# -----------------------------------------------------\n",
    "\n",
    "def download_data(tickers, start, end):\n",
    "    \"\"\"\n",
    "    Descarga precios ajustados de cierre de activos.\n",
    "    \"\"\"\n",
    "    data = yf.download(tickers, start=start, end=end, progress=False, auto_adjust=False)[\"Adj Close\"]\n",
    "    if isinstance(data, pd.Series):  # si es solo un ticker\n",
    "        data = data.to_frame()\n",
    "    return data.dropna(how=\"all\")\n",
    "\n",
    "def preprocess_data(tickers, rf_ticker, start, end):\n",
    "    \"\"\"\n",
    "    Descarga activos + tasa libre de riesgo (^IRX),\n",
    "    alinea calendarios y elimina faltantes.\n",
    "    \"\"\"\n",
    "    prices_assets = download_data(tickers, start, end)\n",
    "    prices_rf = download_data(rf_ticker, start, end)\n",
    "    data_all = prices_assets.join(prices_rf, how=\"inner\").dropna()\n",
    "    return data_all\n",
    "\n",
    "# -----------------------------------------------------\n",
    "# 1.2 Conversión de tasa libre de riesgo\n",
    "# -----------------------------------------------------\n",
    "\n",
    "def convert_rf(data_rf: pd.DataFrame):\n",
    "    \"\"\"\n",
    "    Convierte ^IRX (tasa anualizada %) a:\n",
    "    - tasa anual en decimales\n",
    "    - tasa diaria efectiva\n",
    "    \"\"\"\n",
    "    rf_ann = data_rf / 100  # convertir de % a proporción\n",
    "    rf_daily = (1 + rf_ann) ** (1/252) - 1\n",
    "    rf_ann.columns = [c + \"_ann\" for c in rf_ann.columns]\n",
    "    rf_daily.columns = [c + \"_daily\" for c in rf_daily.columns]\n",
    "    return rf_ann, rf_daily\n",
    "\n",
    "# -----------------------------------------------------\n",
    "# 1.3 Exceso de retorno y exposición\n",
    "# -----------------------------------------------------\n",
    "\n",
    "def compute_returns(prices: pd.DataFrame, kind: str = \"log\"):\n",
    "    \"\"\"\n",
    "    Calcula retornos logarítmicos o simples de los activos de riesgo.\n",
    "    \"\"\"\n",
    "    if kind == \"log\":\n",
    "        rets = np.log(prices / prices.shift(1))\n",
    "    elif kind == \"simple\":\n",
    "        rets = prices.pct_change()\n",
    "    else:\n",
    "        raise ValueError(\"kind debe ser 'log' o 'simple'\")\n",
    "    return rets.dropna()\n",
    "\n",
    "def excess_returns(assets_rets: pd.DataFrame, rf_daily: pd.DataFrame):\n",
    "    \"\"\"\n",
    "    Calcula retornos en exceso de los activos de riesgo frente a rf diaria.\n",
    "    \"\"\"\n",
    "    rf_aligned = rf_daily.reindex(assets_rets.index).fillna(method=\"ffill\")\n",
    "    ex_rets = assets_rets.sub(rf_aligned.squeeze(), axis=0)\n",
    "    return ex_rets"
   ]
  },
  {
   "cell_type": "markdown",
   "id": "93c9a6f6",
   "metadata": {},
   "source": [
    "# 1. Incorporación del activo libre de riesgo"
   ]
  },
  {
   "cell_type": "markdown",
   "id": "564ca3bd",
   "metadata": {},
   "source": [
    "### 1.1. Descarga y preprocesamiento\n",
    "- Descargue precios ajustados diarios de los activos de riesgo y de la serie **^IRX** (T-Bill a 13 semanas) usando `yfinance`.\n",
    "- Alinee calendarios de negociación y elimine faltantes en el rango de fechas definido."
   ]
  },
  {
   "cell_type": "code",
   "execution_count": 7,
   "id": "7da334c4",
   "metadata": {},
   "outputs": [
    {
     "data": {
      "text/plain": [
       "'Activos (precios):'"
      ]
     },
     "metadata": {},
     "output_type": "display_data"
    },
    {
     "data": {
      "text/html": [
       "<div>\n",
       "<style scoped>\n",
       "    .dataframe tbody tr th:only-of-type {\n",
       "        vertical-align: middle;\n",
       "    }\n",
       "\n",
       "    .dataframe tbody tr th {\n",
       "        vertical-align: top;\n",
       "    }\n",
       "\n",
       "    .dataframe thead th {\n",
       "        text-align: right;\n",
       "    }\n",
       "</style>\n",
       "<table border=\"1\" class=\"dataframe\">\n",
       "  <thead>\n",
       "    <tr style=\"text-align: right;\">\n",
       "      <th>Ticker</th>\n",
       "      <th>AAPL</th>\n",
       "      <th>CX</th>\n",
       "      <th>TSLA</th>\n",
       "      <th>BTC-USD</th>\n",
       "      <th>MCD</th>\n",
       "    </tr>\n",
       "    <tr>\n",
       "      <th>Date</th>\n",
       "      <th></th>\n",
       "      <th></th>\n",
       "      <th></th>\n",
       "      <th></th>\n",
       "      <th></th>\n",
       "    </tr>\n",
       "  </thead>\n",
       "  <tbody>\n",
       "    <tr>\n",
       "      <th>2025-01-02</th>\n",
       "      <td>242.987427</td>\n",
       "      <td>5.652203</td>\n",
       "      <td>379.279999</td>\n",
       "      <td>96886.875000</td>\n",
       "      <td>289.190674</td>\n",
       "    </tr>\n",
       "    <tr>\n",
       "      <th>2025-01-03</th>\n",
       "      <td>242.499161</td>\n",
       "      <td>5.622402</td>\n",
       "      <td>410.440002</td>\n",
       "      <td>98107.429688</td>\n",
       "      <td>291.434906</td>\n",
       "    </tr>\n",
       "    <tr>\n",
       "      <th>2025-01-06</th>\n",
       "      <td>244.133347</td>\n",
       "      <td>5.691937</td>\n",
       "      <td>411.049988</td>\n",
       "      <td>102078.085938</td>\n",
       "      <td>288.864380</td>\n",
       "    </tr>\n",
       "    <tr>\n",
       "      <th>2025-01-07</th>\n",
       "      <td>241.353210</td>\n",
       "      <td>5.672070</td>\n",
       "      <td>394.359985</td>\n",
       "      <td>96922.703125</td>\n",
       "      <td>286.056610</td>\n",
       "    </tr>\n",
       "    <tr>\n",
       "      <th>2025-01-08</th>\n",
       "      <td>241.841476</td>\n",
       "      <td>5.652203</td>\n",
       "      <td>394.940002</td>\n",
       "      <td>95043.523438</td>\n",
       "      <td>283.644318</td>\n",
       "    </tr>\n",
       "    <tr>\n",
       "      <th>...</th>\n",
       "      <td>...</td>\n",
       "      <td>...</td>\n",
       "      <td>...</td>\n",
       "      <td>...</td>\n",
       "      <td>...</td>\n",
       "    </tr>\n",
       "    <tr>\n",
       "      <th>2025-06-24</th>\n",
       "      <td>200.072937</td>\n",
       "      <td>6.940000</td>\n",
       "      <td>340.470001</td>\n",
       "      <td>106045.632812</td>\n",
       "      <td>291.470001</td>\n",
       "    </tr>\n",
       "    <tr>\n",
       "      <th>2025-06-25</th>\n",
       "      <td>201.331512</td>\n",
       "      <td>6.740000</td>\n",
       "      <td>327.549988</td>\n",
       "      <td>107361.257812</td>\n",
       "      <td>285.549988</td>\n",
       "    </tr>\n",
       "    <tr>\n",
       "      <th>2025-06-26</th>\n",
       "      <td>200.772141</td>\n",
       "      <td>6.830000</td>\n",
       "      <td>325.779999</td>\n",
       "      <td>106960.000000</td>\n",
       "      <td>285.630005</td>\n",
       "    </tr>\n",
       "    <tr>\n",
       "      <th>2025-06-27</th>\n",
       "      <td>200.852051</td>\n",
       "      <td>6.810000</td>\n",
       "      <td>323.630005</td>\n",
       "      <td>107088.429688</td>\n",
       "      <td>291.549988</td>\n",
       "    </tr>\n",
       "    <tr>\n",
       "      <th>2025-06-30</th>\n",
       "      <td>204.937408</td>\n",
       "      <td>6.930000</td>\n",
       "      <td>317.660004</td>\n",
       "      <td>107135.335938</td>\n",
       "      <td>292.170013</td>\n",
       "    </tr>\n",
       "  </tbody>\n",
       "</table>\n",
       "<p>122 rows × 5 columns</p>\n",
       "</div>"
      ],
      "text/plain": [
       "Ticker            AAPL        CX        TSLA        BTC-USD         MCD\n",
       "Date                                                                   \n",
       "2025-01-02  242.987427  5.652203  379.279999   96886.875000  289.190674\n",
       "2025-01-03  242.499161  5.622402  410.440002   98107.429688  291.434906\n",
       "2025-01-06  244.133347  5.691937  411.049988  102078.085938  288.864380\n",
       "2025-01-07  241.353210  5.672070  394.359985   96922.703125  286.056610\n",
       "2025-01-08  241.841476  5.652203  394.940002   95043.523438  283.644318\n",
       "...                ...       ...         ...            ...         ...\n",
       "2025-06-24  200.072937  6.940000  340.470001  106045.632812  291.470001\n",
       "2025-06-25  201.331512  6.740000  327.549988  107361.257812  285.549988\n",
       "2025-06-26  200.772141  6.830000  325.779999  106960.000000  285.630005\n",
       "2025-06-27  200.852051  6.810000  323.630005  107088.429688  291.549988\n",
       "2025-06-30  204.937408  6.930000  317.660004  107135.335938  292.170013\n",
       "\n",
       "[122 rows x 5 columns]"
      ]
     },
     "metadata": {},
     "output_type": "display_data"
    }
   ],
   "source": [
    "tickers = [\"AAPL\", \"CX\", \"TSLA\", \"BTC-USD\", \"MCD\"]\n",
    "rf_ticker = [\"^IRX\"]\n",
    "\n",
    "start_est = \"2025-01-01\"\n",
    "end_est = \"2025-07-01\"\n",
    "\n",
    "# Descargar y alinear datos\n",
    "data_all = preprocess_data(tickers, rf_ticker, start_est, end_est)\n",
    "\n",
    "# Separar activos de riesgo y rf\n",
    "prices_assets = data_all[tickers]\n",
    "prices_rf = data_all[rf_ticker]\n",
    "\n",
    "display(\"Activos (precios):\", prices_assets)"
   ]
  },
  {
   "cell_type": "markdown",
   "id": "a78f5992",
   "metadata": {},
   "source": [
    "### 1.2. Conversión de la tasa libre de riesgo\n",
    "- Interprete **^IRX** como una tasa anualizada.\n",
    "- Conviértala a tasa diaria efectiva mediante la fórmula:\n",
    "\n",
    "\\[\n",
    "r_{day} = (1 + r_{ann})^{1/252} - 1\n",
    "\\]\n",
    "\n",
    "- Genere series de tasa libre de riesgo diaria y anual."
   ]
  },
  {
   "cell_type": "code",
   "execution_count": 8,
   "id": "12a9cab4",
   "metadata": {},
   "outputs": [
    {
     "name": "stdout",
     "output_type": "stream",
     "text": [
      "RF anualizada: (122, 1)\n",
      "RF diaria: (122, 1)\n"
     ]
    }
   ],
   "source": [
    "rf_ann, rf_daily = convert_rf(prices_rf)\n",
    "\n",
    "print(\"RF anualizada:\", rf_ann.shape)\n",
    "print(\"RF diaria:\", rf_daily.shape)"
   ]
  },
  {
   "cell_type": "markdown",
   "id": "8aeb51e4",
   "metadata": {},
   "source": [
    "### 1.3. Exceso de retorno y exposición\n",
    "- Devuelva:\n",
    "  1. Retornos diarios de los activos de riesgo.\n",
    "  2. Serie de tasa libre de riesgo diaria y anual.\n",
    "  3. Un indicador que permita trabajar con **retornos en exceso** cuando se calcule el Sharpe ratio o el portafolio tangente."
   ]
  },
  {
   "cell_type": "code",
   "execution_count": 9,
   "id": "80503556",
   "metadata": {},
   "outputs": [
    {
     "name": "stderr",
     "output_type": "stream",
     "text": [
      "/var/folders/z7/bkwcm59d3cxfz_8kw41ht2f00000gn/T/ipykernel_3983/2632767995.py:64: FutureWarning: DataFrame.fillna with 'method' is deprecated and will raise in a future version. Use obj.ffill() or obj.bfill() instead.\n",
      "  rf_aligned = rf_daily.reindex(assets_rets.index).fillna(method=\"ffill\")\n"
     ]
    }
   ],
   "source": [
    "rets_assets = compute_returns(prices_assets, kind=\"log\")\n",
    "rets_excess = excess_returns(rets_assets, rf_daily)"
   ]
  },
  {
   "cell_type": "code",
   "execution_count": 10,
   "id": "b4087305",
   "metadata": {},
   "outputs": [
    {
     "name": "stdout",
     "output_type": "stream",
     "text": [
      "Retornos activos: (121, 5)\n",
      "Retornos en exceso: (121, 5)\n"
     ]
    }
   ],
   "source": [
    "print(\"Retornos activos:\", rets_assets.shape)\n",
    "print(\"Retornos en exceso:\", rets_excess.shape)"
   ]
  },
  {
   "cell_type": "markdown",
   "id": "a9d9570f",
   "metadata": {},
   "source": [
    "# 2. Portafolio media–varianza eficiente"
   ]
  },
  {
   "cell_type": "markdown",
   "id": "0f256beb",
   "metadata": {},
   "source": [
    "### 2.1 Estadísticos: μ y Σ anualizados"
   ]
  },
  {
   "cell_type": "code",
   "execution_count": null,
   "id": "cde27e5e",
   "metadata": {},
   "outputs": [
    {
     "name": "stdout",
     "output_type": "stream",
     "text": [
      "Vector de medias anualizadas (µ):\n",
      "Ticker\n",
      "AAPL      -0.354685\n",
      "CX         0.424473\n",
      "TSLA      -0.369238\n",
      "BTC-USD    0.209407\n",
      "MCD        0.021346\n",
      "dtype: float64\n",
      "\n",
      "Matriz de covarianzas anualizada (Σ):\n",
      "Ticker       AAPL        CX      TSLA   BTC-USD       MCD\n",
      "Ticker                                                   \n",
      "AAPL     0.164515  0.062497  0.183096  0.060213  0.022654\n",
      "CX       0.062497  0.164931  0.120094  0.058685  0.019255\n",
      "TSLA     0.183096  0.120094  0.585327  0.174648  0.007702\n",
      "BTC-USD  0.060213  0.058685  0.174648  0.182179  0.002897\n",
      "MCD      0.022654  0.019255  0.007702  0.002897  0.044436\n"
     ]
    }
   ],
   "source": [
    "# Retornos diarios \n",
    "rets_assets = compute_returns(prices_assets, kind=\"log\")\n",
    "\n",
    "# µ anualizada (vector de medias)\n",
    "mu = rets_assets.mean() * 252\n",
    "\n",
    "# Σ anualizada (matriz de covarianzas)\n",
    "Sigma = rets_assets.cov() * 252\n",
    "\n",
    "print(\"Vector de medias anualizadas (µ):\")\n",
    "print(mu)\n",
    "\n",
    "print(\"\\nMatriz de covarianzas anualizada (Σ):\")\n",
    "print(Sigma)"
   ]
  },
  {
   "cell_type": "markdown",
   "id": "b5efb17d",
   "metadata": {},
   "source": [
    "### 2.2. Optimización"
   ]
  },
  {
   "cell_type": "code",
   "execution_count": 13,
   "id": "15ccb438",
   "metadata": {},
   "outputs": [],
   "source": [
    "import cvxpy as cp\n",
    "\n",
    "def min_var_portfolio(mu, Sigma, target_return):\n",
    "    n = len(mu)\n",
    "    w = cp.Variable(n)\n",
    "\n",
    "    # Restricciones\n",
    "    constraints = [\n",
    "        cp.sum(w) == 1,          # suma de pesos = 1\n",
    "        mu.values @ w >= target_return,  # retorno objetivo\n",
    "        w >= 0                   # no short selling\n",
    "    ]\n",
    "\n",
    "    # Función objetivo: minimizar varianza\n",
    "    risk = cp.quad_form(w, Sigma.values)\n",
    "    problem = cp.Problem(cp.Minimize(risk), constraints)\n",
    "    problem.solve()\n",
    "\n",
    "    return w.value, problem.value"
   ]
  },
  {
   "cell_type": "markdown",
   "id": "617ccc6c",
   "metadata": {},
   "source": [
    "### 2.3 Implementación: frontera media–varianza"
   ]
  },
  {
   "cell_type": "code",
   "execution_count": 14,
   "id": "3549cc06",
   "metadata": {},
   "outputs": [],
   "source": [
    "def efficient_frontier(mu, Sigma, n_points=50):\n",
    "    mus = np.linspace(mu.min(), mu.max(), n_points)\n",
    "    risks = []\n",
    "    weights = []\n",
    "\n",
    "    for m in mus:\n",
    "        w_opt, var_opt = min_var_portfolio(mu, Sigma, m)\n",
    "        if w_opt is not None:\n",
    "            risks.append(np.sqrt(var_opt))  # desviación estándar (volatilidad)\n",
    "            weights.append(w_opt)\n",
    "\n",
    "    return mus, risks, weights\n"
   ]
  },
  {
   "cell_type": "code",
   "execution_count": 15,
   "id": "6a6af4fa",
   "metadata": {},
   "outputs": [
    {
     "data": {
      "image/png": "[encoded data removed]",
      "text/plain": [
       "<Figure size 800x600 with 1 Axes>"
      ]
     },
     "metadata": {},
     "output_type": "display_data"
    }
   ],
   "source": [
    "import matplotlib.pyplot as plt\n",
    "\n",
    "mus, risks, weights = efficient_frontier(mu, Sigma)\n",
    "\n",
    "plt.figure(figsize=(8,6))\n",
    "plt.plot(risks, mus, \"b-\", linewidth=2)\n",
    "plt.xlabel(\"Volatilidad (σ)\")\n",
    "plt.ylabel(\"Retorno esperado (µ)\")\n",
    "plt.title(\"Frontera Media–Varianza Eficiente\")\n",
    "plt.grid(True)\n",
    "plt.show()\n"
   ]
  },
  {
   "cell_type": "markdown",
   "id": "1be680a4",
   "metadata": {},
   "source": []
  }
 ],
 "metadata": {
  "kernelspec": {
   "display_name": "finanzas",
   "language": "python",
   "name": "python3"
  },
  "language_info": {
   "codemirror_mode": {
    "name": "ipython",
    "version": 3
   },
   "file_extension": ".py",
   "mimetype": "text/x-python",
   "name": "python",
   "nbconvert_exporter": "python",
   "pygments_lexer": "ipython3",
   "version": "3.12.11"
  }
 },
 "nbformat": 4,
 "nbformat_minor": 5
}
