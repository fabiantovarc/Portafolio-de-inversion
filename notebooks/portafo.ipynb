{
 "cells": [
  {
   "cell_type": "code",
   "execution_count": 1,
   "id": "856017c5",
   "metadata": {},
   "outputs": [],
   "source": [
    "import numpy as np\n",
    "import pandas as pd\n",
    "import matplotlib.pyplot as plt\n",
    "import yfinance as yf"
   ]
  },
  {
   "cell_type": "code",
   "execution_count": null,
   "id": "ad1004a2",
   "metadata": {},
   "outputs": [],
   "source": [
    "returns_Normalizados = pd.DataFrame()\n",
    "tickers = ['AAPL', 'CX', 'TSLA', 'BTC-USD','MCD']\n",
    "act_libre_riesgo= ['^IRX', 'T-Bill'] # falta normalizar estos\n",
    "inicio = '2025-01-01'\n",
    "fin = '2025-08-15'"
   ]
  },
  {
   "cell_type": "code",
   "execution_count": 3,
   "id": "12b66953",
   "metadata": {},
   "outputs": [
    {
     "name": "stderr",
     "output_type": "stream",
     "text": [
      "/tmp/ipykernel_34581/2610193857.py:4: FutureWarning: Series.__getitem__ treating keys as positions is deprecated. In a future version, integer keys will always be treated as labels (consistent with DataFrame behavior). To access a value by position, use `ser.iloc[pos]`\n",
      "  returns_Normalizados[ticker] = aux/aux[0]-1 # cuanto hay tasa de retorno con respecto al inicial linea 8\n",
      "/tmp/ipykernel_34581/2610193857.py:4: FutureWarning: Series.__getitem__ treating keys as positions is deprecated. In a future version, integer keys will always be treated as labels (consistent with DataFrame behavior). To access a value by position, use `ser.iloc[pos]`\n",
      "  returns_Normalizados[ticker] = aux/aux[0]-1 # cuanto hay tasa de retorno con respecto al inicial linea 8\n",
      "/tmp/ipykernel_34581/2610193857.py:4: FutureWarning: Series.__getitem__ treating keys as positions is deprecated. In a future version, integer keys will always be treated as labels (consistent with DataFrame behavior). To access a value by position, use `ser.iloc[pos]`\n",
      "  returns_Normalizados[ticker] = aux/aux[0]-1 # cuanto hay tasa de retorno con respecto al inicial linea 8\n",
      "/tmp/ipykernel_34581/2610193857.py:4: FutureWarning: Series.__getitem__ treating keys as positions is deprecated. In a future version, integer keys will always be treated as labels (consistent with DataFrame behavior). To access a value by position, use `ser.iloc[pos]`\n",
      "  returns_Normalizados[ticker] = aux/aux[0]-1 # cuanto hay tasa de retorno con respecto al inicial linea 8\n",
      "/tmp/ipykernel_34581/2610193857.py:4: FutureWarning: Series.__getitem__ treating keys as positions is deprecated. In a future version, integer keys will always be treated as labels (consistent with DataFrame behavior). To access a value by position, use `ser.iloc[pos]`\n",
      "  returns_Normalizados[ticker] = aux/aux[0]-1 # cuanto hay tasa de retorno con respecto al inicial linea 8\n"
     ]
    },
    {
     "data": {
      "text/html": [
       "<div>\n",
       "<style scoped>\n",
       "    .dataframe tbody tr th:only-of-type {\n",
       "        vertical-align: middle;\n",
       "    }\n",
       "\n",
       "    .dataframe tbody tr th {\n",
       "        vertical-align: top;\n",
       "    }\n",
       "\n",
       "    .dataframe thead th {\n",
       "        text-align: right;\n",
       "    }\n",
       "</style>\n",
       "<table border=\"1\" class=\"dataframe\">\n",
       "  <thead>\n",
       "    <tr style=\"text-align: right;\">\n",
       "      <th></th>\n",
       "      <th>AAPL</th>\n",
       "      <th>CX</th>\n",
       "      <th>TSLA</th>\n",
       "      <th>BTC-USD</th>\n",
       "      <th>MCD</th>\n",
       "    </tr>\n",
       "    <tr>\n",
       "      <th>Date</th>\n",
       "      <th></th>\n",
       "      <th></th>\n",
       "      <th></th>\n",
       "      <th></th>\n",
       "      <th></th>\n",
       "    </tr>\n",
       "  </thead>\n",
       "  <tbody>\n",
       "    <tr>\n",
       "      <th>2025-01-02 00:00:00-05:00</th>\n",
       "      <td>0.000000</td>\n",
       "      <td>0.000000</td>\n",
       "      <td>0.000000</td>\n",
       "      <td>NaN</td>\n",
       "      <td>0.000000</td>\n",
       "    </tr>\n",
       "    <tr>\n",
       "      <th>2025-01-03 00:00:00-05:00</th>\n",
       "      <td>-0.002009</td>\n",
       "      <td>-0.005272</td>\n",
       "      <td>0.082156</td>\n",
       "      <td>NaN</td>\n",
       "      <td>0.007760</td>\n",
       "    </tr>\n",
       "    <tr>\n",
       "      <th>2025-01-06 00:00:00-05:00</th>\n",
       "      <td>0.004716</td>\n",
       "      <td>0.007030</td>\n",
       "      <td>0.083764</td>\n",
       "      <td>NaN</td>\n",
       "      <td>-0.001128</td>\n",
       "    </tr>\n",
       "    <tr>\n",
       "      <th>2025-01-07 00:00:00-05:00</th>\n",
       "      <td>-0.006725</td>\n",
       "      <td>0.003515</td>\n",
       "      <td>0.039760</td>\n",
       "      <td>NaN</td>\n",
       "      <td>-0.010837</td>\n",
       "    </tr>\n",
       "    <tr>\n",
       "      <th>2025-01-08 00:00:00-05:00</th>\n",
       "      <td>-0.004716</td>\n",
       "      <td>0.000000</td>\n",
       "      <td>0.041289</td>\n",
       "      <td>NaN</td>\n",
       "      <td>-0.019179</td>\n",
       "    </tr>\n",
       "  </tbody>\n",
       "</table>\n",
       "</div>"
      ],
      "text/plain": [
       "                               AAPL        CX      TSLA  BTC-USD       MCD\n",
       "Date                                                                      \n",
       "2025-01-02 00:00:00-05:00  0.000000  0.000000  0.000000      NaN  0.000000\n",
       "2025-01-03 00:00:00-05:00 -0.002009 -0.005272  0.082156      NaN  0.007760\n",
       "2025-01-06 00:00:00-05:00  0.004716  0.007030  0.083764      NaN -0.001128\n",
       "2025-01-07 00:00:00-05:00 -0.006725  0.003515  0.039760      NaN -0.010837\n",
       "2025-01-08 00:00:00-05:00 -0.004716  0.000000  0.041289      NaN -0.019179"
      ]
     },
     "execution_count": 3,
     "metadata": {},
     "output_type": "execute_result"
    }
   ],
   "source": [
    "for ticker in tickers:\n",
    "    aux = yf.Ticker(ticker).history(start = inicio,\n",
    "                                    end = fin).Close\n",
    "    returns_Normalizados[ticker] = aux/aux[0]-1 # cuanto hay tasa de retorno con respecto al inicial linea 8\n",
    "returns_Normalizados.head()"
   ]
  }
 ],
 "metadata": {
  "kernelspec": {
   "display_name": "base",
   "language": "python",
   "name": "python3"
  },
  "language_info": {
   "codemirror_mode": {
    "name": "ipython",
    "version": 3
   },
   "file_extension": ".py",
   "mimetype": "text/x-python",
   "name": "python",
   "nbconvert_exporter": "python",
   "pygments_lexer": "ipython3",
   "version": "3.12.2"
  }
 },
 "nbformat": 4,
 "nbformat_minor": 5
}
